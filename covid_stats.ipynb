{
 "cells": [
  {
   "cell_type": "code",
   "execution_count": 1,
   "metadata": {
    "collapsed": true,
    "tags": []
   },
   "outputs": [],
   "source": [
    "import logging\n",
    "from io import StringIO\n",
    "\n",
    "import pandas as pd\n",
    "import requests"
   ]
  },
  {
   "cell_type": "code",
   "execution_count": null,
   "metadata": {
    "collapsed": true,
    "tags": [
     "parameters"
    ]
   },
   "outputs": [],
   "source": [
    "# variables which can be changed\n",
    "GCP_PROJECT='adventures-on-gcp'\n",
    "BQ_DATASET='covid_stats'\n",
    "BQ_TABLE='world_data'\n",
    "date='2021-04-20'"
   ]
  },
  {
   "cell_type": "code",
   "execution_count": null,
   "metadata": {
    "collapsed": true,
    "jupyter": {
     "outputs_hidden": false
    },
    "pycharm": {
     "name": "#%%\n"
    }
   },
   "outputs": [],
   "source": [
    "logging.debug('downloading data')\n",
    "url = 'https://covid.ourworldindata.org/data/owid-covid-data.csv'\n",
    "r = requests.get(url)\n",
    "\n",
    "f = StringIO(r.text)\n",
    "f.seek(0)\n",
    "df = pd.read_csv(f)\n",
    "f.close()"
   ]
  },
  {
   "cell_type": "code",
   "execution_count": null,
   "metadata": {
    "collapsed": true
   },
   "outputs": [],
   "source": [
    "df_latest = df[df.date==date]"
   ]
  },
  {
   "cell_type": "code",
   "execution_count": null,
   "metadata": {
    "collapsed": true
   },
   "outputs": [],
   "source": [
    "df_world = df_latest[df_latest['location'] == 'World']"
   ]
  },
  {
   "cell_type": "code",
   "execution_count": null,
   "metadata": {
    "collapsed": true
   },
   "outputs": [],
   "source": [
    "from google.cloud import bigquery\n",
    "bq = bigquery.Client(project=GCP_PROJECT)\n"
   ]
  },
  {
   "cell_type": "code",
   "execution_count": null,
   "metadata": {
    "collapsed": true
   },
   "outputs": [],
   "source": [
    "logging.debug('uploading to BQ')\n",
    "job_config = bigquery.LoadJobConfig()\n",
    "\n",
    "table_id = f'{BQ_DATASET}.{BQ_TABLE}'\n",
    "job = bigquery.LoadJobConfig()\n",
    "job.write_disposition = bigquery.WriteDisposition.WRITE_APPEND\n",
    "job.create_disposition = bigquery.CreateDisposition.CREATE_IF_NEEDED\n",
    "\n",
    "job = bq.load_table_from_dataframe(df_world, table_id, job_config=job_config)\n",
    "\n",
    "job.result()\n",
    "logging.info('completed')"
   ]
  }
 ],
 "metadata": {
  "celltoolbar": "Edit Metadata",
  "kernelspec": {
   "display_name": "Python 3",
   "language": "python",
   "name": "python3"
  },
  "language_info": {
   "codemirror_mode": {
    "name": "ipython",
    "version": 3
   },
   "file_extension": ".py",
   "mimetype": "text/x-python",
   "name": "python",
   "nbconvert_exporter": "python",
   "pygments_lexer": "ipython3",
   "version": "3.9.1"
  }
 },
 "nbformat": 4,
 "nbformat_minor": 4
}